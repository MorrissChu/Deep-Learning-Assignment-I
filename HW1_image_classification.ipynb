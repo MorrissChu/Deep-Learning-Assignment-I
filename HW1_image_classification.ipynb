{
 "cells": [
  {
   "cell_type": "code",
   "execution_count": 1,
   "metadata": {},
   "outputs": [],
   "source": [
    "import pandas as pd \n",
    "import os \n",
    "import time\n",
    "from tqdm import tqdm \n",
    "from skimage.transform import resize \n",
    "from skimage.io import imread \n",
    "from skimage import feature as ft\n",
    "import numpy as np \n",
    "from numpy import linalg as LA\n",
    "import matplotlib.pyplot as plt \n",
    "from sklearn import svm \n",
    "from sklearn.model_selection import GridSearchCV \n",
    "from sklearn.model_selection import train_test_split \n",
    "from sklearn.metrics import accuracy_score \n",
    "from sklearn.metrics import confusion_matrix\n",
    "from sklearn.metrics import classification_report\n",
    "from sklearn.neighbors import KNeighborsClassifier\n",
    "from sklearn.svm import SVC\n",
    "from catboost import CatBoostClassifier\n",
    "import argparse\n",
    "import mahotas\n",
    "import glob\n",
    "import cv2"
   ]
  },
  {
   "cell_type": "markdown",
   "metadata": {},
   "source": [
    "1.使用三種特徵萃取方式：HOG, Haralink and ORB\\\n",
    "2.設定完成三種萃取方式的def後，將資料進行特徵萃取和輸出（可以儲存起來避免每次重複進行）\\\n",
    "3.分成三部分：train,validation,test\\\n",
    "4.訓練模型：KNN(比較十種不同k結果),SVM,catboost\\\n",
    "5.輸出結果比較"
   ]
  },
  {
   "cell_type": "code",
   "execution_count": 151,
   "metadata": {},
   "outputs": [
    {
     "name": "stderr",
     "output_type": "stream",
     "text": [
      "100%|██████████| 200/200 [00:00<00:00, 772.71it/s]\n"
     ]
    }
   ],
   "source": [
    "# 將圖片資料的所在路徑與圖片資料分類label記錄（共兩百個圖片種類）\n",
    "dd=os.listdir('TinyImageNet/TIN')\n",
    "dd.remove(\".DS_Store\")\n",
    "f1 = open('train.txt', 'w')\n",
    "f2 = open('val.txt', 'w')\n",
    "f3 = open('test.txt', 'w')\n",
    "for i in tqdm(range(len(dd))):\n",
    "    d2 = os.listdir ('TinyImageNet/TIN/%s/images/'%(dd[i]))\n",
    "    # Train\n",
    "    for j in range(len(d2)-4):\n",
    "        str1='TinyImageNet/TIN/%s/images/%s'%(dd[i], d2[j])\n",
    "        f1.write(\"%s %d\\n\" % (str1, i))\n",
    "    # Validation\n",
    "    str1='TinyImageNet/TIN/%s/images/%s'%(dd[i], d2[-3])\n",
    "    f2.write(\"%s %d\\n\" % (str1, i))\n",
    "    # Test\n",
    "    str1='TinyImageNet/TIN/%s/images/%s'%(dd[i], d2[-2])\n",
    "    f3.write(\"%s %d\\n\" % (str1, i))\n",
    "    str1='TinyImageNet/TIN/%s/images/%s'%(dd[i], d2[-1])\n",
    "    f3.write(\"%s %d\\n\" % (str1, i))\n",
    "f1.close()\n",
    "f2.close()\n",
    "f3.close()"
   ]
  },
  {
   "cell_type": "code",
   "execution_count": 2,
   "metadata": {},
   "outputs": [],
   "source": [
    "def ORB(image):\n",
    "    img=cv2.resize(image, (128,128))\n",
    "    # Initiate ORB detector\n",
    "    orb = cv2.ORB_create(nlevels = 4,edgeThreshold = 8,patchSize=8)\n",
    "    # find the keypoints with ORB\n",
    "    kp = orb.detect(img,None)\n",
    "    # compute the descriptors with ORB\n",
    "    kp, des = orb.compute(img, kp)\n",
    "    # draw only keypoints location,not size and orientation\n",
    "    img2 = cv2.drawKeypoints(img, kp, None, color=(0,255,0), flags=0)\n",
    "    img2=cv2.cvtColor(img2, cv2.COLOR_BGR2GRAY) \n",
    "    # plt.imshow(img2), plt.show() 顯示特徵萃取後圖片\n",
    "    img2=cv2.resize(img2, (16,16))\n",
    "\n",
    "    return img2\n",
    "\n",
    "def HOG(image):\n",
    "    image = cv2.cvtColor(image, cv2.COLOR_BGR2GRAY) # 將圖片灰階\n",
    "    features = ft.hog(image, orientations=6, pixels_per_cell = [16,16],\n",
    "                      cells_per_block = [2,2], visualize = True)\n",
    "    features = cv2.resize(features[1], (16,16))\n",
    "    \n",
    "    return features\n",
    "\n",
    "def describe(image, mask=None):\n",
    " \n",
    "    #取RGB三個channels的平均及變異\n",
    "    (means, stds) = cv2.meanStdDev(image)\n",
    "\n",
    "    #合併平均及變異兩種數值再攤為一維\n",
    "    colorRGB = np.concatenate([means, stds]).flatten()\n",
    "\n",
    "    #取Haralink textures\n",
    "    image = cv2.cvtColor(image, cv2.COLOR_BGR2GRAY) # 將圖片灰階\n",
    "    hara = mahotas.features.haralick(image).mean(axis=0)\n",
    "\n",
    "    #將兩種特徵值合併\n",
    "    features = np.append(colorRGB, hara)\n",
    "\n",
    "    return features\n",
    "\n",
    "def load_img(f, FEAT = \"Haralink\"):\n",
    "    f=open(f)\n",
    "    lines=f.readlines()\n",
    "    imgs, lab=[], []\n",
    "    for i in tqdm(range(len(lines))):\n",
    "        fn, label = lines[i].split(' ')\n",
    "        \n",
    "        im1=cv2.imread(fn)\n",
    "        im1=cv2.resize(im1, (256,256)) # 確保每張圖片大小為64X64\n",
    "\n",
    "        if FEAT == \"Haralink\":\n",
    "            feature = describe(im1).tolist() # 利用Haralink進行特徵萃取\n",
    "        elif FEAT == \"HOG\":\n",
    "            feature = HOG(im1).tolist() # 利用HOG進行特徵萃取\n",
    "        elif FEAT == \"ORB\":\n",
    "            feature = ORB(im1).tolist()\n",
    "        # im1 = cv2.cvtColor(im1, cv2.COLOR_BGR2GRAY) \n",
    "        \n",
    "        \n",
    "        vec = np.reshape(feature, [-1])\n",
    "        imgs.append(vec) \n",
    "        lab.append(int(label))\n",
    "        \n",
    "    imgs= np.asarray(imgs, np.float32)\n",
    "    lab= np.asarray(lab, np.int32)\n",
    "    return imgs, lab "
   ]
  },
  {
   "cell_type": "code",
   "execution_count": 3,
   "metadata": {},
   "outputs": [
    {
     "name": "stderr",
     "output_type": "stream",
     "text": [
      "  0%|          | 0/99200 [00:00<?, ?it/s]"
     ]
    },
    {
     "name": "stderr",
     "output_type": "stream",
     "text": [
      "100%|██████████| 99200/99200 [09:58<00:00, 165.79it/s]\n",
      "100%|██████████| 99200/99200 [37:13<00:00, 44.42it/s] \n",
      "100%|██████████| 99200/99200 [02:25<00:00, 683.85it/s] \n",
      "100%|██████████| 200/200 [00:01<00:00, 167.39it/s]\n",
      "100%|██████████| 200/200 [00:04<00:00, 46.55it/s]\n",
      "100%|██████████| 200/200 [00:00<00:00, 723.93it/s]\n",
      "100%|██████████| 400/400 [00:02<00:00, 170.49it/s]\n",
      "100%|██████████| 400/400 [00:08<00:00, 46.13it/s]\n",
      "100%|██████████| 400/400 [00:00<00:00, 723.34it/s]\n"
     ]
    }
   ],
   "source": [
    "# Train\n",
    "Haralink_x, Haralink_y = load_img('train.txt')   # 進行Haralink特徵萃取\n",
    "HOG_x, HOG_y = load_img('train.txt', FEAT=\"HOG\") # 進行HOG特徵萃取\n",
    "ORB_x, ORB_y = load_img('train.txt', FEAT=\"ORB\") # 進行PRB特徵萃取\n",
    "# Validation\n",
    "Haralink_vx, Haralink_vy = load_img('val.txt')  \n",
    "HOG_vx, HOG_vy = load_img('val.txt', FEAT=\"HOG\") \n",
    "ORB_vx, ORB_vy = load_img('val.txt', FEAT=\"ORB\") \n",
    "# Test\n",
    "Haralink_tx, Haralink_ty = load_img('test.txt')  \n",
    "HOG_tx, HOG_ty = load_img('test.txt', FEAT=\"HOG\") \n",
    "ORB_tx, ORB_ty = load_img('test.txt', FEAT=\"ORB\") \n",
    "#======================================\n",
    "#X就是資料，Y是Label，設計不同分類器來得到最高效能\n",
    "#判斷標準：計算出分類的正確率\n",
    "#======================================"
   ]
  },
  {
   "cell_type": "code",
   "execution_count": 4,
   "metadata": {},
   "outputs": [
    {
     "name": "stdout",
     "output_type": "stream",
     "text": [
      "Haralink dimension: (99200, 19)\n",
      "HOG dimension: (99200, 256)\n",
      "ORB dimension: (99200, 256)\n"
     ]
    }
   ],
   "source": [
    "print(f\"Haralink dimension: {Haralink_x.shape}\")\n",
    "# 可以看到進行Haralink特徵萃取後，一張圖片會有19個變數，前面六個為顏色RGB資訊，後面13個為Haralink特徵\n",
    "print(f\"HOG dimension: {HOG_x.shape}\")\n",
    "# 按照原本圖片大小64X64進行HOG特徵萃取（得到每張圖片的梯度直方圖），故大小為64X64=4096\n",
    "print(f\"ORB dimension: {ORB_x.shape}\")\n",
    "# 因為將圖片resize 128X128，並且輸出前有轉灰階，因此大小為128X128\n",
    "# 總圖片數量為99800張圖片"
   ]
  },
  {
   "cell_type": "code",
   "execution_count": 5,
   "metadata": {},
   "outputs": [],
   "source": [
    "np.save('Haralink_x', Haralink_x)\n",
    "np.save('Haralink_y', Haralink_y)\n",
    "np.save('Haralink_vx', Haralink_vx)\n",
    "np.save('Haralink_vy', Haralink_vy)\n",
    "np.save('Haralink_tx', Haralink_tx)\n",
    "np.save('Haralink_ty', Haralink_ty)\n",
    "\n",
    "np.save('HOG_x', HOG_x)\n",
    "np.save('HOG_y', HOG_y)\n",
    "np.save('HOG_vx', HOG_vx)\n",
    "np.save('HOG_vy', HOG_vy)\n",
    "np.save('HOG_tx', HOG_tx)\n",
    "np.save('HOG_ty', HOG_ty)\n",
    "\n",
    "np.save('ORB_x', ORB_x)\n",
    "np.save('ORB_y', ORB_y)\n",
    "np.save('ORB_vx', ORB_vx)\n",
    "np.save('ORB_vy', ORB_vy)\n",
    "np.save('ORB_tx', ORB_tx)\n",
    "np.save('ORB_ty', ORB_ty)"
   ]
  },
  {
   "cell_type": "code",
   "execution_count": 2,
   "metadata": {},
   "outputs": [],
   "source": [
    "Haralink_x = np.load('Haralink_x.npy')\n",
    "Haralink_y = np.load('Haralink_y.npy')\n",
    "Haralink_vx = np.load('Haralink_vx.npy')\n",
    "Haralink_vy = np.load('Haralink_vy.npy')\n",
    "Haralink_tx = np.load('Haralink_tx.npy')\n",
    "Haralink_ty = np.load('Haralink_ty.npy')\n",
    "\n",
    "HOG_x = np.load('HOG_x.npy')\n",
    "HOG_y = np.load('HOG_y.npy')\n",
    "HOG_vx = np.load('HOG_vx.npy')\n",
    "HOG_vy = np.load('HOG_vy.npy')\n",
    "HOG_tx = np.load('HOG_tx.npy')\n",
    "HOG_ty = np.load('HOG_ty.npy')\n",
    "\n",
    "ORB_x = np.load('ORB_x.npy')\n",
    "ORB_y = np.load('ORB_y.npy')\n",
    "ORB_vx = np.load('ORB_vx.npy')\n",
    "ORB_vy = np.load('ORB_vy.npy')\n",
    "ORB_tx = np.load('ORB_tx.npy')\n",
    "ORB_ty = np.load('ORB_ty.npy')"
   ]
  },
  {
   "cell_type": "markdown",
   "metadata": {},
   "source": [
    "#### model1:KNN"
   ]
  },
  {
   "cell_type": "code",
   "execution_count": 23,
   "metadata": {},
   "outputs": [
    {
     "name": "stderr",
     "output_type": "stream",
     "text": [
      "100%|██████████| 10/10 [00:00<00:00, 27.35it/s]\n",
      "100%|██████████| 10/10 [00:01<00:00,  5.64it/s]\n",
      "100%|██████████| 10/10 [00:02<00:00,  4.81it/s]\n"
     ]
    }
   ],
   "source": [
    "#使用KNN演算法, 從k=1開始測試剛剛並且利用for loop來建立迴圈（查看不同k值結果）\n",
    "Haralink_accuracy = []\n",
    "HOG_accuracy = []\n",
    "ORB_accuracy = []\n",
    "# Haralink\n",
    "for i in tqdm(range(1,11)):\n",
    "  knn = KNeighborsClassifier(n_neighbors=i)\n",
    "  knn.fit(Haralink_x,Haralink_y)\n",
    "  pred_i = knn.predict(Haralink_tx)\n",
    "  Haralink_accuracy.append(accuracy_score(Haralink_ty, pred_i))\n",
    "# HOG\n",
    "for i in tqdm(range(1,11)):\n",
    "  knn = KNeighborsClassifier(n_neighbors=i)\n",
    "  knn.fit(HOG_x,HOG_y)\n",
    "  pred_i = knn.predict(HOG_tx)\n",
    "  HOG_accuracy.append(accuracy_score(HOG_ty, pred_i))\n",
    "# ORB\n",
    "for i in tqdm(range(1,11)):\n",
    "  knn = KNeighborsClassifier(n_neighbors=i)\n",
    "  knn.fit(ORB_x,ORB_y)\n",
    "  pred_i = knn.predict(ORB_tx)\n",
    "  ORB_accuracy.append(accuracy_score(ORB_ty, pred_i))"
   ]
  },
  {
   "cell_type": "code",
   "execution_count": 24,
   "metadata": {},
   "outputs": [
    {
     "data": {
      "text/plain": [
       "Text(0, 0.5, 'accuracy')"
      ]
     },
     "execution_count": 24,
     "metadata": {},
     "output_type": "execute_result"
    },
    {
     "data": {
      "image/png": "[encoded data removed]",
      "text/plain": [
       "<Figure size 500x300 with 1 Axes>"
      ]
     },
     "metadata": {},
     "output_type": "display_data"
    }
   ],
   "source": [
    "plt.figure(figsize=(5,3))\n",
    "plt.plot(range(1,11),Haralink_accuracy,color='blue',linestyle='dashed',marker='o',markerfacecolor='red',markersize=10)\n",
    "plt.title(' Accuracy vs. K Value')\n",
    "plt.xlabel('K')\n",
    "plt.ylabel('accuracy')"
   ]
  },
  {
   "cell_type": "code",
   "execution_count": 25,
   "metadata": {},
   "outputs": [
    {
     "data": {
      "text/plain": [
       "Text(0, 0.5, 'accuracy')"
      ]
     },
     "execution_count": 25,
     "metadata": {},
     "output_type": "execute_result"
    },
    {
     "data": {
      "image/png": "[encoded data removed]",
      "text/plain": [
       "<Figure size 500x300 with 1 Axes>"
      ]
     },
     "metadata": {},
     "output_type": "display_data"
    }
   ],
   "source": [
    "plt.figure(figsize=(5,3))\n",
    "plt.plot(range(1,11),HOG_accuracy,color='blue',linestyle='dashed',marker='o',markerfacecolor='red',markersize=10)\n",
    "plt.title(' Accuracy vs. K Value')\n",
    "plt.xlabel('K')\n",
    "plt.ylabel('accuracy')"
   ]
  },
  {
   "cell_type": "code",
   "execution_count": 26,
   "metadata": {},
   "outputs": [
    {
     "data": {
      "text/plain": [
       "Text(0, 0.5, 'accuracy')"
      ]
     },
     "execution_count": 26,
     "metadata": {},
     "output_type": "execute_result"
    },
    {
     "data": {
      "image/png": "[encoded data removed]",
      "text/plain": [
       "<Figure size 500x300 with 1 Axes>"
      ]
     },
     "metadata": {},
     "output_type": "display_data"
    }
   ],
   "source": [
    "plt.figure(figsize=(5,3))\n",
    "plt.plot(range(1,11),ORB_accuracy,color='blue',linestyle='dashed',marker='o',markerfacecolor='red',markersize=10)\n",
    "plt.title(' Accuracy vs. K Value')\n",
    "plt.xlabel('K')\n",
    "plt.ylabel('accuracy')"
   ]
  },
  {
   "cell_type": "markdown",
   "metadata": {},
   "source": [
    "#### model2:SVM"
   ]
  },
  {
   "cell_type": "code",
   "execution_count": 17,
   "metadata": {},
   "outputs": [
    {
     "data": {
      "text/plain": [
       "0.02"
      ]
     },
     "execution_count": 17,
     "metadata": {},
     "output_type": "execute_result"
    }
   ],
   "source": [
    "model2 = SVC()\n",
    "model2.fit(Haralink_x,Haralink_y)\n",
    "SVM_predH = model2.predict(Haralink_tx)\n",
    "accuracy_score(SVM_predH,Haralink_ty)"
   ]
  },
  {
   "cell_type": "code",
   "execution_count": 18,
   "metadata": {},
   "outputs": [
    {
     "data": {
      "text/plain": [
       "0.0775"
      ]
     },
     "execution_count": 18,
     "metadata": {},
     "output_type": "execute_result"
    }
   ],
   "source": [
    "model2_HOG = SVC()\n",
    "model2_HOG.fit(HOG_x,HOG_y)\n",
    "SVM_predHOG = model2_HOG.predict(HOG_tx)\n",
    "accuracy_score(SVM_predHOG,HOG_ty)"
   ]
  },
  {
   "cell_type": "code",
   "execution_count": 19,
   "metadata": {},
   "outputs": [
    {
     "data": {
      "text/plain": [
       "0.0675"
      ]
     },
     "execution_count": 19,
     "metadata": {},
     "output_type": "execute_result"
    }
   ],
   "source": [
    "model2_ORB = SVC()\n",
    "model2_ORB.fit(ORB_x,ORB_y)\n",
    "SVM_predORB = model2_ORB.predict(ORB_tx)\n",
    "accuracy_score(SVM_predORB,ORB_ty)"
   ]
  },
  {
   "cell_type": "code",
   "execution_count": 20,
   "metadata": {},
   "outputs": [],
   "source": [
    "import pickle\n",
    "# save the iris classification model as a pickle file\n",
    "model_pkl_file = \"SVM_model_Haralink.pkl\"  \n",
    "\n",
    "with open(model_pkl_file, 'wb') as file:  \n",
    "    pickle.dump(model2, file)\n",
    "\n",
    "# save the iris classification model as a pickle file\n",
    "model_pkl_file = \"SVM_model_HOG.pkl\"  \n",
    "\n",
    "with open(model_pkl_file, 'wb') as file:  \n",
    "    pickle.dump(model2_HOG, file)\n",
    "\n",
    "# save the iris classification model as a pickle file\n",
    "model_pkl_file = \"SVM_model_ORB.pkl\"  \n",
    "\n",
    "with open(model_pkl_file, 'wb') as file:  \n",
    "    pickle.dump(model2_ORB, file)"
   ]
  },
  {
   "cell_type": "markdown",
   "metadata": {},
   "source": [
    "#### model3: CatBoostClassifier"
   ]
  },
  {
   "cell_type": "code",
   "execution_count": 27,
   "metadata": {},
   "outputs": [
    {
     "data": {
      "application/vnd.jupyter.widget-view+json": {
       "model_id": "2faacab96b234a6b8efaec34be937a2c",
       "version_major": 2,
       "version_minor": 0
      },
      "text/plain": [
       "MetricVisualizer(layout=Layout(align_self='stretch', height='500px'))"
      ]
     },
     "metadata": {},
     "output_type": "display_data"
    },
    {
     "data": {
      "text/plain": [
       "<catboost.core.CatBoostClassifier at 0x3113e5910>"
      ]
     },
     "execution_count": 27,
     "metadata": {},
     "output_type": "execute_result"
    }
   ],
   "source": [
    "model3 = CatBoostClassifier(iterations=400,task_type=\"CPU\",eval_metric = 'AUC', learning_rate=0.1, verbose=0)\n",
    "model3.fit(Haralink_x,Haralink_y, eval_set=[(Haralink_x, Haralink_y), (Haralink_vx, Haralink_vy)], plot=True)"
   ]
  },
  {
   "cell_type": "code",
   "execution_count": 29,
   "metadata": {},
   "outputs": [
    {
     "data": {
      "text/plain": [
       "0.085"
      ]
     },
     "execution_count": 29,
     "metadata": {},
     "output_type": "execute_result"
    }
   ],
   "source": [
    "Cat_predH = model3.predict(Haralink_tx)\n",
    "accuracy_score(Cat_predH,Haralink_ty)"
   ]
  },
  {
   "cell_type": "code",
   "execution_count": 30,
   "metadata": {},
   "outputs": [
    {
     "data": {
      "text/plain": [
       "0.085"
      ]
     },
     "execution_count": 30,
     "metadata": {},
     "output_type": "execute_result"
    }
   ],
   "source": [
    "import pickle\n",
    "# save the iris classification model as a pickle file\n",
    "model_pkl_file = \"CatBoostClassifier_Haralink_model.pkl\"  \n",
    "\n",
    "with open(model_pkl_file, 'wb') as file:  \n",
    "    pickle.dump(model3, file)\n",
    "\n",
    "# load model from pickle file\n",
    "with open(model_pkl_file, 'rb') as file:  \n",
    "    modelnew = pickle.load(file)\n",
    "\n",
    "# evaluate model \n",
    "y_predict = modelnew.predict(Haralink_tx)\n",
    "accuracy_score(y_predict,Haralink_ty)"
   ]
  },
  {
   "cell_type": "code",
   "execution_count": 3,
   "metadata": {},
   "outputs": [
    {
     "data": {
      "application/vnd.jupyter.widget-view+json": {
       "model_id": "887274ba16be41afbcb8272e0156e432",
       "version_major": 2,
       "version_minor": 0
      },
      "text/plain": [
       "MetricVisualizer(layout=Layout(align_self='stretch', height='500px'))"
      ]
     },
     "metadata": {},
     "output_type": "display_data"
    },
    {
     "data": {
      "text/plain": [
       "<catboost.core.CatBoostClassifier at 0x16c59e7f0>"
      ]
     },
     "execution_count": 3,
     "metadata": {},
     "output_type": "execute_result"
    }
   ],
   "source": [
    "model3_1 = CatBoostClassifier(iterations=400,task_type=\"CPU\",eval_metric = 'AUC', learning_rate=0.1, verbose=0)\n",
    "model3_1.fit(HOG_x,HOG_y, eval_set=[(HOG_x, HOG_y), (HOG_vx, HOG_vy)], plot=True)"
   ]
  },
  {
   "cell_type": "code",
   "execution_count": 4,
   "metadata": {},
   "outputs": [
    {
     "data": {
      "text/plain": [
       "0.08"
      ]
     },
     "execution_count": 4,
     "metadata": {},
     "output_type": "execute_result"
    }
   ],
   "source": [
    "Cat_predHOG = model3_1.predict(HOG_tx)\n",
    "accuracy_score(Cat_predHOG,HOG_ty)"
   ]
  },
  {
   "cell_type": "code",
   "execution_count": null,
   "metadata": {},
   "outputs": [],
   "source": [
    "import pickle\n",
    "# save the iris classification model as a pickle file\n",
    "model_pkl_file = \"CatBoostClassifier_HOG_model.pkl\"  \n",
    "\n",
    "with open(model_pkl_file, 'wb') as file:  \n",
    "    pickle.dump(model3_1, file)\n",
    "\n",
    "# load model from pickle file\n",
    "with open(model_pkl_file, 'rb') as file:  \n",
    "    modelnew = pickle.load(file)\n",
    "\n",
    "# evaluate model \n",
    "Cat_predHOG = model3_1.predict(HOG_tx)\n",
    "accuracy_score(Cat_predHOG,HOG_ty)"
   ]
  },
  {
   "cell_type": "code",
   "execution_count": 3,
   "metadata": {},
   "outputs": [
    {
     "data": {
      "application/vnd.jupyter.widget-view+json": {
       "model_id": "9ac7c6ec769f43e4bdc1373281b96868",
       "version_major": 2,
       "version_minor": 0
      },
      "text/plain": [
       "MetricVisualizer(layout=Layout(align_self='stretch', height='500px'))"
      ]
     },
     "metadata": {},
     "output_type": "display_data"
    },
    {
     "data": {
      "text/plain": [
       "<catboost.core.CatBoostClassifier at 0x103aa44c0>"
      ]
     },
     "execution_count": 3,
     "metadata": {},
     "output_type": "execute_result"
    }
   ],
   "source": [
    "model3_2 = CatBoostClassifier(iterations=400,task_type=\"CPU\",eval_metric = 'AUC', learning_rate=0.1, verbose=0)\n",
    "model3_2.fit(ORB_x,ORB_y, eval_set=[(ORB_x, ORB_y), (ORB_vx, ORB_vy)], plot=True)"
   ]
  },
  {
   "cell_type": "code",
   "execution_count": 4,
   "metadata": {},
   "outputs": [
    {
     "data": {
      "text/plain": [
       "0.0825"
      ]
     },
     "execution_count": 4,
     "metadata": {},
     "output_type": "execute_result"
    }
   ],
   "source": [
    "Cat_predORB = model3_2.predict(ORB_tx)\n",
    "accuracy_score(Cat_predORB,ORB_ty)"
   ]
  },
  {
   "cell_type": "code",
   "execution_count": 5,
   "metadata": {},
   "outputs": [
    {
     "data": {
      "text/plain": [
       "0.0825"
      ]
     },
     "execution_count": 5,
     "metadata": {},
     "output_type": "execute_result"
    }
   ],
   "source": [
    "import pickle\n",
    "# save the iris classification model as a pickle file\n",
    "model_pkl_file = \"CatBoostClassifier_ORB_model.pkl\"  \n",
    "\n",
    "with open(model_pkl_file, 'wb') as file:  \n",
    "    pickle.dump(model3_2, file)\n",
    "\n",
    "# load model from pickle file\n",
    "with open(model_pkl_file, 'rb') as file:  \n",
    "    modelnew = pickle.load(file)\n",
    "\n",
    "# evaluate model \n",
    "Cat_predORB = model3_2.predict(ORB_tx)\n",
    "accuracy_score(Cat_predORB,ORB_ty)"
   ]
  }
 ],
 "metadata": {
  "kernelspec": {
   "display_name": "Python 3",
   "language": "python",
   "name": "python3"
  },
  "language_info": {
   "codemirror_mode": {
    "name": "ipython",
    "version": 3
   },
   "file_extension": ".py",
   "mimetype": "text/x-python",
   "name": "python",
   "nbconvert_exporter": "python",
   "pygments_lexer": "ipython3",
   "version": "3.9.18"
  }
 },
 "nbformat": 4,
 "nbformat_minor": 2
}
